{
 "cells": [
  {
   "cell_type": "code",
   "execution_count": 4,
   "metadata": {},
   "outputs": [],
   "source": [
    "\n",
    "import os\n",
    "import argparse\n",
    "import qlib\n",
    "os.environ[\"CUDA_VISIBLE_DEVICES\"] = '3'\n",
    "instruments = 'sp500'\n"
   ]
  },
  {
   "cell_type": "code",
   "execution_count": 5,
   "metadata": {},
   "outputs": [],
   "source": [
    "import json\n",
    "from collections import Counter\n",
    "from alphagen.data.expression import *\n",
    "from alphagen.models.alpha_pool import AlphaPool\n",
    "from alphagen.utils.correlation import batch_pearsonr, batch_spearmanr\n",
    "from alphagen_generic.features import *\n",
    "from gan.utils.data import get_data_by_year\n",
    "\n",
    "\n",
    "def pred_pool(capacity,data,cache):\n",
    "    from alphagen_qlib.calculator import QLibStockDataCalculator\n",
    "    pool = AlphaPool(capacity=capacity,\n",
    "                    stock_data=data,\n",
    "                    target=target,\n",
    "                    ic_lower_bound=None)\n",
    "    exprs = []\n",
    "    for key in dict(Counter(cache).most_common(capacity)):\n",
    "        exprs.append(eval(key))\n",
    "    pool.force_load_exprs(exprs)\n",
    "    pool._optimize(alpha=5e-3, lr=5e-1, n_iter=2000)\n",
    "\n",
    "    exprs = pool.exprs[:pool.size]\n",
    "    weights = pool.weights[:pool.size]\n",
    "    calculator_test = QLibStockDataCalculator(data, target)\n",
    "    ensemble_value = calculator_test.make_ensemble_alpha(exprs, weights)\n",
    "    return ensemble_value\n",
    "\n",
    "\n"
   ]
  },
  {
   "cell_type": "markdown",
   "metadata": {},
   "source": [
    "# Infer"
   ]
  },
  {
   "cell_type": "code",
   "execution_count": 9,
   "metadata": {},
   "outputs": [
    {
     "name": "stdout",
     "output_type": "stream",
     "text": [
      "out_gp/sp500_2016_day_0\n"
     ]
    },
    {
     "name": "stderr",
     "output_type": "stream",
     "text": [
      "/DATA1/home/chenbq/AlphaStruct/.venv/lib/python3.11/site-packages/torch/storage.py:414: FutureWarning: You are using `torch.load` with `weights_only=False` (the current default value), which uses the default pickle module implicitly. It is possible to construct malicious pickle data which will execute arbitrary code during unpickling (See https://github.com/pytorch/pytorch/blob/main/SECURITY.md#untrusted-models for more details). In a future release, the default value for `weights_only` will be flipped to `True`. This limits the functions that could be executed during unpickling. Arbitrary objects will no longer be allowed to be loaded via this mode unless they are explicitly allowlisted by the user via `torch.serialization.add_safe_globals`. We recommend you start setting `weights_only=True` for any use case where you don't have full control of the loaded file. Please open an issue on GitHub for any issues related to this experimental feature.\n",
      "  return torch.load(io.BytesIO(b))\n",
      "/DATA1/home/chenbq/AlphaStruct/.venv/lib/python3.11/site-packages/torch/storage.py:414: FutureWarning: You are using `torch.load` with `weights_only=False` (the current default value), which uses the default pickle module implicitly. It is possible to construct malicious pickle data which will execute arbitrary code during unpickling (See https://github.com/pytorch/pytorch/blob/main/SECURITY.md#untrusted-models for more details). In a future release, the default value for `weights_only` will be flipped to `True`. This limits the functions that could be executed during unpickling. Arbitrary objects will no longer be allowed to be loaded via this mode unless they are explicitly allowlisted by the user via `torch.serialization.add_safe_globals`. We recommend you start setting `weights_only=True` for any use case where you don't have full control of the loaded file. Please open an issue on GitHub for any issues related to this experimental feature.\n",
      "  return torch.load(io.BytesIO(b))\n",
      "/DATA1/home/chenbq/AlphaStruct/.venv/lib/python3.11/site-packages/torch/storage.py:414: FutureWarning: You are using `torch.load` with `weights_only=False` (the current default value), which uses the default pickle module implicitly. It is possible to construct malicious pickle data which will execute arbitrary code during unpickling (See https://github.com/pytorch/pytorch/blob/main/SECURITY.md#untrusted-models for more details). In a future release, the default value for `weights_only` will be flipped to `True`. This limits the functions that could be executed during unpickling. Arbitrary objects will no longer be allowed to be loaded via this mode unless they are explicitly allowlisted by the user via `torch.serialization.add_safe_globals`. We recommend you start setting `weights_only=True` for any use case where you don't have full control of the loaded file. Please open an issue on GitHub for any issues related to this experimental feature.\n",
      "  return torch.load(io.BytesIO(b))\n",
      "/DATA1/home/chenbq/AlphaStruct/.venv/lib/python3.11/site-packages/torch/storage.py:414: FutureWarning: You are using `torch.load` with `weights_only=False` (the current default value), which uses the default pickle module implicitly. It is possible to construct malicious pickle data which will execute arbitrary code during unpickling (See https://github.com/pytorch/pytorch/blob/main/SECURITY.md#untrusted-models for more details). In a future release, the default value for `weights_only` will be flipped to `True`. This limits the functions that could be executed during unpickling. Arbitrary objects will no longer be allowed to be loaded via this mode unless they are explicitly allowlisted by the user via `torch.serialization.add_safe_globals`. We recommend you start setting `weights_only=True` for any use case where you don't have full control of the loaded file. Please open an issue on GitHub for any issues related to this experimental feature.\n",
      "  return torch.load(io.BytesIO(b))\n",
      "/DATA1/home/chenbq/AlphaStruct/.venv/lib/python3.11/site-packages/torch/storage.py:414: FutureWarning: You are using `torch.load` with `weights_only=False` (the current default value), which uses the default pickle module implicitly. It is possible to construct malicious pickle data which will execute arbitrary code during unpickling (See https://github.com/pytorch/pytorch/blob/main/SECURITY.md#untrusted-models for more details). In a future release, the default value for `weights_only` will be flipped to `True`. This limits the functions that could be executed during unpickling. Arbitrary objects will no longer be allowed to be loaded via this mode unless they are explicitly allowlisted by the user via `torch.serialization.add_safe_globals`. We recommend you start setting `weights_only=True` for any use case where you don't have full control of the loaded file. Please open an issue on GitHub for any issues related to this experimental feature.\n",
      "  return torch.load(io.BytesIO(b))\n",
      "/DATA1/home/chenbq/AlphaStruct/.venv/lib/python3.11/site-packages/torch/storage.py:414: FutureWarning: You are using `torch.load` with `weights_only=False` (the current default value), which uses the default pickle module implicitly. It is possible to construct malicious pickle data which will execute arbitrary code during unpickling (See https://github.com/pytorch/pytorch/blob/main/SECURITY.md#untrusted-models for more details). In a future release, the default value for `weights_only` will be flipped to `True`. This limits the functions that could be executed during unpickling. Arbitrary objects will no longer be allowed to be loaded via this mode unless they are explicitly allowlisted by the user via `torch.serialization.add_safe_globals`. We recommend you start setting `weights_only=True` for any use case where you don't have full control of the loaded file. Please open an issue on GitHub for any issues related to this experimental feature.\n",
      "  return torch.load(io.BytesIO(b))\n"
     ]
    }
   ],
   "source": [
    "for seed in range(1):\n",
    "    for train_end in range(2016,2017):\n",
    "        for num in [1]:\n",
    "            save_dir = f'out_gp/{instruments}_{train_end}_day_{seed}' \n",
    "            print(save_dir)\n",
    "            \n",
    "            returned = get_data_by_year(\n",
    "                train_start = 2010,train_end=train_end,valid_year=train_end+1,test_year =train_end+2,\n",
    "                instruments=instruments, target=target,freq='day',\n",
    "                qlib_path = '/DATA1/home/chenbq/AlphaStruct/data/qlib_data/us_data'\n",
    "            )\n",
    "            data_all,data,data_valid,data_valid_withhead,data_test,data_test_withhead,name = returned\n",
    "            cache = json.load(open(f'{save_dir}/2.json'))['cache']\n",
    "\n",
    "            features = ['open_', 'close', 'high', 'low', 'volume', 'vwap']\n",
    "            constants = [f'Constant({v})' for v in [-30., -10., -5., -2., -1., -0.5, -0.01, 0.01, 0.5, 1., 2., 5., 10., 30.]]\n",
    "            terminals = features + constants\n",
    "\n",
    "            pred = pred_pool(num,data_all,cache)\n",
    "            pred = pred[-data_test.n_days:]\n",
    "            torch.save(pred.detach().cpu(),f\"{save_dir}/pred_{num}.pt\")\n",
    "            \n"
   ]
  },
  {
   "cell_type": "code",
   "execution_count": 13,
   "metadata": {},
   "outputs": [],
   "source": [
    "import pandas as pd\n",
    "from alphagen.utils.correlation import batch_pearsonr, batch_spearmanr, batch_ret, batch_sharpe_ratio, batch_max_drawdown\n",
    "import torch\n",
    "import os\n",
    "import numpy as np\n",
    "\n",
    "def chunk_batch_spearmanr(x, y, chunk_size=100):\n",
    "    n_days = len(x)\n",
    "    spearmanr_list= []\n",
    "    for i in range(0, n_days, chunk_size):\n",
    "        spearmanr_list.append(batch_spearmanr(x[i:i+chunk_size], y[i:i+chunk_size]))\n",
    "    spearmanr_list = torch.cat(spearmanr_list, dim=0)\n",
    "    return spearmanr_list\n",
    "\n",
    "def get_tensor_metrics(x, y, risk_free_rate=0.0):\n",
    "    # Ensure tensors are 2D (days, stocks)\n",
    "    if x.dim() > 2: x = x.squeeze(-1)\n",
    "    if y.dim() > 2: y = y.squeeze(-1)\n",
    "\n",
    "    ic_s = batch_pearsonr(x, y)\n",
    "    ric_s = chunk_batch_spearmanr(x, y, chunk_size=400)\n",
    "    ret_s = batch_ret(x, y) -0.003\n",
    "\n",
    "    ic_s = torch.nan_to_num(ic_s, nan=0.)\n",
    "    ric_s = torch.nan_to_num(ric_s, nan=0.)\n",
    "    ret_s = torch.nan_to_num(ret_s, nan=0.) / 20\n",
    "    ic_s_mean = ic_s.mean().item()\n",
    "    ic_s_std = ic_s.std().item() if ic_s.std().item() > 1e-6 else 1.0\n",
    "    ric_s_mean = ric_s.mean().item()\n",
    "    ric_s_std = ric_s.std().item() if ric_s.std().item() > 1e-6 else 1.0\n",
    "    ret_s_mean = ret_s.mean().item()\n",
    "    ret_s_std = ret_s.std().item() if ret_s.std().item() > 1e-6 else 1.0\n",
    "    \n",
    "    # Calculate Sharpe Ratio and Maximum Drawdown for ret series\n",
    "    ret_sharpe = batch_sharpe_ratio(ret_s, risk_free_rate).item()\n",
    "    ret_mdd = batch_max_drawdown(ret_s).item()\n",
    "    result = dict(\n",
    "        ic=ic_s_mean,\n",
    "        ic_std=ic_s_std,\n",
    "        icir=ic_s_mean / ic_s_std,\n",
    "        ric=ric_s_mean,\n",
    "        ric_std=ric_s_std,\n",
    "        ricir=ric_s_mean / ric_s_std,\n",
    "        ret=ret_s_mean * len(ret_s) / 3,\n",
    "        ret_std=ret_s_std,\n",
    "        retir=ret_s_mean / ret_s_std,\n",
    "        ret_sharpe=ret_sharpe,\n",
    "        ret_mdd=ret_mdd,\n",
    "    )\n",
    "    return result, ret_s\n",
    " "
   ]
  },
  {
   "cell_type": "markdown",
   "metadata": {},
   "source": [
    "# Read and combine result to show"
   ]
  },
  {
   "cell_type": "code",
   "execution_count": null,
   "metadata": {},
   "outputs": [
    {
     "name": "stderr",
     "output_type": "stream",
     "text": [
      "/DATA1/home/chenbq/AlphaStruct/.venv/lib/python3.11/site-packages/torch/storage.py:414: FutureWarning: You are using `torch.load` with `weights_only=False` (the current default value), which uses the default pickle module implicitly. It is possible to construct malicious pickle data which will execute arbitrary code during unpickling (See https://github.com/pytorch/pytorch/blob/main/SECURITY.md#untrusted-models for more details). In a future release, the default value for `weights_only` will be flipped to `True`. This limits the functions that could be executed during unpickling. Arbitrary objects will no longer be allowed to be loaded via this mode unless they are explicitly allowlisted by the user via `torch.serialization.add_safe_globals`. We recommend you start setting `weights_only=True` for any use case where you don't have full control of the loaded file. Please open an issue on GitHub for any issues related to this experimental feature.\n",
      "  return torch.load(io.BytesIO(b))\n",
      "/DATA1/home/chenbq/AlphaStruct/.venv/lib/python3.11/site-packages/torch/storage.py:414: FutureWarning: You are using `torch.load` with `weights_only=False` (the current default value), which uses the default pickle module implicitly. It is possible to construct malicious pickle data which will execute arbitrary code during unpickling (See https://github.com/pytorch/pytorch/blob/main/SECURITY.md#untrusted-models for more details). In a future release, the default value for `weights_only` will be flipped to `True`. This limits the functions that could be executed during unpickling. Arbitrary objects will no longer be allowed to be loaded via this mode unless they are explicitly allowlisted by the user via `torch.serialization.add_safe_globals`. We recommend you start setting `weights_only=True` for any use case where you don't have full control of the loaded file. Please open an issue on GitHub for any issues related to this experimental feature.\n",
      "  return torch.load(io.BytesIO(b))\n",
      "/DATA1/home/chenbq/AlphaStruct/.venv/lib/python3.11/site-packages/torch/storage.py:414: FutureWarning: You are using `torch.load` with `weights_only=False` (the current default value), which uses the default pickle module implicitly. It is possible to construct malicious pickle data which will execute arbitrary code during unpickling (See https://github.com/pytorch/pytorch/blob/main/SECURITY.md#untrusted-models for more details). In a future release, the default value for `weights_only` will be flipped to `True`. This limits the functions that could be executed during unpickling. Arbitrary objects will no longer be allowed to be loaded via this mode unless they are explicitly allowlisted by the user via `torch.serialization.add_safe_globals`. We recommend you start setting `weights_only=True` for any use case where you don't have full control of the loaded file. Please open an issue on GitHub for any issues related to this experimental feature.\n",
      "  return torch.load(io.BytesIO(b))\n",
      "/DATA1/home/chenbq/AlphaStruct/.venv/lib/python3.11/site-packages/torch/storage.py:414: FutureWarning: You are using `torch.load` with `weights_only=False` (the current default value), which uses the default pickle module implicitly. It is possible to construct malicious pickle data which will execute arbitrary code during unpickling (See https://github.com/pytorch/pytorch/blob/main/SECURITY.md#untrusted-models for more details). In a future release, the default value for `weights_only` will be flipped to `True`. This limits the functions that could be executed during unpickling. Arbitrary objects will no longer be allowed to be loaded via this mode unless they are explicitly allowlisted by the user via `torch.serialization.add_safe_globals`. We recommend you start setting `weights_only=True` for any use case where you don't have full control of the loaded file. Please open an issue on GitHub for any issues related to this experimental feature.\n",
      "  return torch.load(io.BytesIO(b))\n",
      "/DATA1/home/chenbq/AlphaStruct/.venv/lib/python3.11/site-packages/torch/storage.py:414: FutureWarning: You are using `torch.load` with `weights_only=False` (the current default value), which uses the default pickle module implicitly. It is possible to construct malicious pickle data which will execute arbitrary code during unpickling (See https://github.com/pytorch/pytorch/blob/main/SECURITY.md#untrusted-models for more details). In a future release, the default value for `weights_only` will be flipped to `True`. This limits the functions that could be executed during unpickling. Arbitrary objects will no longer be allowed to be loaded via this mode unless they are explicitly allowlisted by the user via `torch.serialization.add_safe_globals`. We recommend you start setting `weights_only=True` for any use case where you don't have full control of the loaded file. Please open an issue on GitHub for any issues related to this experimental feature.\n",
      "  return torch.load(io.BytesIO(b))\n",
      "/DATA1/home/chenbq/AlphaStruct/.venv/lib/python3.11/site-packages/torch/storage.py:414: FutureWarning: You are using `torch.load` with `weights_only=False` (the current default value), which uses the default pickle module implicitly. It is possible to construct malicious pickle data which will execute arbitrary code during unpickling (See https://github.com/pytorch/pytorch/blob/main/SECURITY.md#untrusted-models for more details). In a future release, the default value for `weights_only` will be flipped to `True`. This limits the functions that could be executed during unpickling. Arbitrary objects will no longer be allowed to be loaded via this mode unless they are explicitly allowlisted by the user via `torch.serialization.add_safe_globals`. We recommend you start setting `weights_only=True` for any use case where you don't have full control of the loaded file. Please open an issue on GitHub for any issues related to this experimental feature.\n",
      "  return torch.load(io.BytesIO(b))\n",
      "/tmp/ipykernel_438872/1165048826.py:18: FutureWarning: You are using `torch.load` with `weights_only=False` (the current default value), which uses the default pickle module implicitly. It is possible to construct malicious pickle data which will execute arbitrary code during unpickling (See https://github.com/pytorch/pytorch/blob/main/SECURITY.md#untrusted-models for more details). In a future release, the default value for `weights_only` will be flipped to `True`. This limits the functions that could be executed during unpickling. Arbitrary objects will no longer be allowed to be loaded via this mode unless they are explicitly allowlisted by the user via `torch.serialization.add_safe_globals`. We recommend you start setting `weights_only=True` for any use case where you don't have full control of the loaded file. Please open an issue on GitHub for any issues related to this experimental feature.\n",
      "  pred = torch.load(f\"{save_dir}/pred_{num}.pt\")\n",
      "/tmp/ipykernel_438872/1165048826.py:21: UserWarning: To copy construct from a tensor, it is recommended to use sourceTensor.clone().detach() or sourceTensor.clone().detach().requires_grad_(True), rather than torch.tensor(sourceTensor).\n",
      "  res, ret_s = get_tensor_metrics(torch.tensor(pred), torch.tensor(tgt))\n"
     ]
    },
    {
     "name": "stdout",
     "output_type": "stream",
     "text": [
      "            ic    ic_std     icir       ric   ric_std     ricir       ret  \\\n",
      "Test  0.052145  0.145644  0.35803  0.002308  0.145541  0.015857  0.133988   \n",
      "\n",
      "       ret_std     retir  ret_sharpe   ret_mdd  \n",
      "Test  0.002679  0.198478    3.150744  0.130414  \n"
     ]
    },
    {
     "ename": "",
     "evalue": "",
     "output_type": "error",
     "traceback": [
      "\u001b[1;31mThe Kernel crashed while executing code in the current cell or a previous cell. \n",
      "\u001b[1;31mPlease review the code in the cell(s) to identify a possible cause of the failure. \n",
      "\u001b[1;31mClick <a href='https://aka.ms/vscodeJupyterKernelCrash'>here</a> for more info. \n",
      "\u001b[1;31mView Jupyter <a href='command:jupyter.viewOutput'>log</a> for further details."
     ]
    }
   ],
   "source": [
    "result = []\n",
    "instruments = 'sp500'\n",
    "for num in [1]:\n",
    "    for seed in range(1):\n",
    "    \n",
    "        cur_seed_ic = []\n",
    "        cur_seed_ric = []\n",
    "        for train_end in range(2016,2017):\n",
    "                #'/path/to/save/results'\n",
    "                save_dir = f'out_gp/{instruments}_{train_end}_day_{seed}' \n",
    "\n",
    "                returned = get_data_by_year(\n",
    "                    train_start = 2010,train_end=train_end,valid_year=train_end+1,test_year =train_end+2,\n",
    "                    instruments=instruments, target=target,freq='day',\n",
    "                    qlib_path = '/DATA1/home/chenbq/AlphaStruct/data/qlib_data/us_data_qlib'\n",
    "                )\n",
    "                data_all,data,data_valid,data_valid_withhead,data_test,data_test_withhead,name = returned\n",
    "                pred = torch.load(f\"{save_dir}/pred_{num}.pt\")\n",
    "                \n",
    "                tgt = target.evaluate(data_all)[-data_test.n_days:,:].to(\"cpu\")\n",
    "                res, ret_s = get_tensor_metrics(torch.tensor(pred), torch.tensor(tgt))\n",
    "                print(pd.DataFrame(res,index=[\"Test\"]))\n",
    "                np.save(f\"{save_dir}/ret_s.npy\", ret_s)\n",
    "            "
   ]
  }
 ],
 "metadata": {
  "kernelspec": {
   "display_name": ".venv",
   "language": "python",
   "name": "python3"
  },
  "language_info": {
   "codemirror_mode": {
    "name": "ipython",
    "version": 3
   },
   "file_extension": ".py",
   "mimetype": "text/x-python",
   "name": "python",
   "nbconvert_exporter": "python",
   "pygments_lexer": "ipython3",
   "version": "3.11.7"
  }
 },
 "nbformat": 4,
 "nbformat_minor": 2
}
